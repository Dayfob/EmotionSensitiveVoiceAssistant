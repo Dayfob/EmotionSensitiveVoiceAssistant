{
 "cells": [
  {
   "metadata": {
    "ExecuteTime": {
     "end_time": "2024-09-17T02:57:02.609834Z",
     "start_time": "2024-09-17T02:57:01.895693Z"
    }
   },
   "cell_type": "code",
   "source": [
    "import pandas as pd\n",
    "\n",
    "# Load dataset\n",
    "df = pd.read_csv('../../data/text/combined_raw.csv')\n",
    "\n",
    "# Ensure the message column is a string\n",
    "df['text'] = df['text'].astype(str)\n",
    "\n",
    "# Calculate the length of each message\n",
    "df['message_length'] = df['text'].apply(len)\n",
    "\n",
    "# Find the row with the maximum message length\n",
    "longest_message_row = df.loc[df['message_length'].idxmax()]\n",
    "\n",
    "# Extract the longest message\n",
    "longest_message = longest_message_row['text']\n",
    "longest_message_length = longest_message_row['message_length']\n",
    "longest_message_emotion = longest_message_row['emotion']\n",
    "\n",
    "# Print the result\n",
    "print(f\"Longest message length: {longest_message_length}\")\n",
    "print(f\"Longest message emotion: {longest_message_emotion}\")\n",
    "print(f\"Longest message: {longest_message}\")\n"
   ],
   "id": "8002003f0222dfb2",
   "outputs": [
    {
     "name": "stdout",
     "output_type": "stream",
     "text": [
      "Longest message length: 1159\n",
      "Longest message emotion: angry\n",
      "Longest message: Jacob , you have the luxury of having a haircut that rarely needs styling . I don ’ t . I have to set aside about an hour and a half to get ready in the mornings . Every day , I wake up and head straight for the shower . Every second day , I wash my hair . If it ’ s a hair-washing day , I frequently need to wash my hair twice because it gets really oily . Then I usually put in a conditioner and have to rinse that out too . Because my hair is so long , I seldom manage to take a shower in under twenty minutes . Afterwards , I often put on a pot of coffee and get dressed while I wait for it to brew . I take a long time to get dressed in the morning . Every now and then I remember to choose my outfit the night before , but usually I do it in the morning . In all , getting dressed takes about half an hour , at which time my hair is now semi-dry so then I have to style my hair . From time to time I ’ ll put my hair up , but oftentimes I bloody it straight . And then , because of the texture of my hair , I regularly have to flat-iron it to keep it from frizzing . That ’ s another twenty minutes or so . After that , I have my daily makeup routine . \n"
     ]
    }
   ],
   "execution_count": 1
  },
  {
   "cell_type": "code",
   "id": "initial_id",
   "metadata": {
    "collapsed": true,
    "ExecuteTime": {
     "end_time": "2024-09-17T02:57:56.450197Z",
     "start_time": "2024-09-17T02:57:56.021815Z"
    }
   },
   "source": [
    "import nltk\n",
    "from nltk.tokenize import word_tokenize\n",
    "import os\n",
    "\n",
    "nltk.download('punkt')\n",
    "nltk.download('punkt_tab')\n",
    "\n",
    "# Tokenize the text\n",
    "tokens = word_tokenize(longest_message)\n",
    "\n",
    "# Save tokens to a file\n",
    "with open('tokens.txt', 'w') as file:\n",
    "    file.write('\\n'.join(tokens))\n"
   ],
   "outputs": [
    {
     "name": "stderr",
     "output_type": "stream",
     "text": [
      "[nltk_data] Downloading package punkt to\n",
      "[nltk_data]     C:\\Users\\semem\\AppData\\Roaming\\nltk_data...\n",
      "[nltk_data]   Package punkt is already up-to-date!\n",
      "[nltk_data] Downloading package punkt_tab to\n",
      "[nltk_data]     C:\\Users\\semem\\AppData\\Roaming\\nltk_data...\n",
      "[nltk_data]   Unzipping tokenizers\\punkt_tab.zip.\n"
     ]
    }
   ],
   "execution_count": 4
  },
  {
   "metadata": {},
   "cell_type": "code",
   "outputs": [],
   "execution_count": null,
   "source": "",
   "id": "971f17140f666ddc"
  }
 ],
 "metadata": {
  "kernelspec": {
   "display_name": "Python 3",
   "language": "python",
   "name": "python3"
  },
  "language_info": {
   "codemirror_mode": {
    "name": "ipython",
    "version": 2
   },
   "file_extension": ".py",
   "mimetype": "text/x-python",
   "name": "python",
   "nbconvert_exporter": "python",
   "pygments_lexer": "ipython2",
   "version": "2.7.6"
  }
 },
 "nbformat": 4,
 "nbformat_minor": 5
}
