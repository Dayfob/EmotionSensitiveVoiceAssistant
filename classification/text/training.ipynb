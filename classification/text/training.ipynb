{
 "cells": [
  {
   "metadata": {},
   "cell_type": "markdown",
   "source": "# Training pretrained model BERT",
   "id": "b0d5ededffc3e58e"
  },
  {
   "metadata": {
    "ExecuteTime": {
     "end_time": "2024-10-01T03:59:03.282717Z",
     "start_time": "2024-10-01T03:59:03.014942Z"
    }
   },
   "cell_type": "code",
   "source": [
    "import pandas as pd\n",
    "from sklearn.model_selection import train_test_split\n",
    "from datasets import Dataset\n",
    "from transformers import BertTokenizer\n",
    "import torch\n",
    "\n",
    "df = pd.read_csv('../../data/text/combined_cleaned.csv')\n",
    "\n",
    "# Preprocess your text and labels\n",
    "df['label'] = df['emotion'].factorize()[0]  # Encoding emotion labels\n",
    "train_texts, val_texts, train_labels, val_labels = train_test_split(df['text'], df['label'], test_size=0.2)\n",
    "\n",
    "# Convert train_texts and val_texts to lists\n",
    "train_texts = list(train_texts.tolist())  # Ensure the input is a list of strings\n",
    "val_texts = list(val_texts.tolist())   # Ensure the input is a list of strings\n",
    "\n",
    "train_labels = train_labels.tolist()  \n",
    "val_labels = val_labels.tolist()\n",
    "\n",
    "train_texts = train_texts[:5]\n",
    "val_texts = val_texts[:5]\n",
    "train_labels = train_labels[:5]\n",
    "val_labels = val_labels[:5]\n",
    "\n",
    "# Load the BERT tokenizer\n",
    "tokenizer = BertTokenizer.from_pretrained('bert-base-uncased')\n",
    "\n",
    "# Tokenize the text (debug by printing the type of inputs)\n",
    "# print(f\"Train texts type: {type(train_texts)}\")  # Should be list\n",
    "# print(f\"First 5 train texts: {train_texts[:5]}\")  # Check sample text\n",
    "train_encodings = tokenizer(train_texts, truncation=True, padding=True)\n",
    "\n",
    "# print(f\"Val texts type: {type(val_texts)}\")  # Should be list\n",
    "# print(f\"First 5 val texts: {val_texts[:5]}\")  # Check sample text\n",
    "val_encodings = tokenizer(val_texts, truncation=True, padding=True)\n",
    "\n",
    "# Convert to torch datasets\n",
    "# print(f\"Train labels type: {type(train_labels)}\")  # Should be list\n",
    "# print(f\"First 5 train labels: {train_labels[:5]}\")  # Check sample labels\n",
    "\n",
    "print(train_encodings)\n",
    "\n",
    "train_dataset = Dataset.from_dict({\n",
    "    'input_ids': train_encodings['input_ids'],\n",
    "    'attention_mask': train_encodings['attention_mask'],\n",
    "    'labels': train_labels\n",
    "})\n",
    "val_dataset = Dataset.from_dict({\n",
    "    'input_ids': val_encodings['input_ids'],\n",
    "    'attention_mask': val_encodings['attention_mask'],\n",
    "    'labels': val_labels\n",
    "})\n",
    "\n",
    "\n",
    "# from transformers import BertTokenizer\n",
    "# tokenizer = BertTokenizer.from_pretrained('bert-base-uncased')\n",
    "# text_batch = [\"I love Pixar.\", \"I don't care for Pixar.\"]\n",
    "# encoding = tokenizer(text_batch, return_tensors='pt', padding=True, truncation=True)\n",
    "# input_ids = encoding['input_ids']\n",
    "# attention_mask = encoding['attention_mask']"
   ],
   "id": "c868a5b09a0bd823",
   "outputs": [
    {
     "name": "stdout",
     "output_type": "stream",
     "text": [
      "{'input_ids': [[101, 2748, 2672, 2411, 4687, 2374, 5114, 2172, 6217, 2855, 2327, 14999, 2941, 2191, 3807, 2172, 2327, 2374, 2732, 2051, 102, 0], [101, 3198, 2113, 2518, 2673, 2689, 2514, 2978, 15311, 3046, 2562, 2599, 3341, 4121, 3815, 2689, 13260, 3499, 2272, 12139, 4608, 102], [101, 21271, 3676, 16665, 3711, 3185, 102, 0, 0, 0, 0, 0, 0, 0, 0, 0, 0, 0, 0, 0, 0, 0], [101, 9788, 2204, 2146, 102, 0, 0, 0, 0, 0, 0, 0, 0, 0, 0, 0, 0, 0, 0, 0, 0, 0], [101, 4067, 29337, 2569, 27576, 2191, 2154, 3524, 2733, 102, 0, 0, 0, 0, 0, 0, 0, 0, 0, 0, 0, 0]], 'token_type_ids': [[0, 0, 0, 0, 0, 0, 0, 0, 0, 0, 0, 0, 0, 0, 0, 0, 0, 0, 0, 0, 0, 0], [0, 0, 0, 0, 0, 0, 0, 0, 0, 0, 0, 0, 0, 0, 0, 0, 0, 0, 0, 0, 0, 0], [0, 0, 0, 0, 0, 0, 0, 0, 0, 0, 0, 0, 0, 0, 0, 0, 0, 0, 0, 0, 0, 0], [0, 0, 0, 0, 0, 0, 0, 0, 0, 0, 0, 0, 0, 0, 0, 0, 0, 0, 0, 0, 0, 0], [0, 0, 0, 0, 0, 0, 0, 0, 0, 0, 0, 0, 0, 0, 0, 0, 0, 0, 0, 0, 0, 0]], 'attention_mask': [[1, 1, 1, 1, 1, 1, 1, 1, 1, 1, 1, 1, 1, 1, 1, 1, 1, 1, 1, 1, 1, 0], [1, 1, 1, 1, 1, 1, 1, 1, 1, 1, 1, 1, 1, 1, 1, 1, 1, 1, 1, 1, 1, 1], [1, 1, 1, 1, 1, 1, 1, 0, 0, 0, 0, 0, 0, 0, 0, 0, 0, 0, 0, 0, 0, 0], [1, 1, 1, 1, 1, 0, 0, 0, 0, 0, 0, 0, 0, 0, 0, 0, 0, 0, 0, 0, 0, 0], [1, 1, 1, 1, 1, 1, 1, 1, 1, 1, 0, 0, 0, 0, 0, 0, 0, 0, 0, 0, 0, 0]]}\n"
     ]
    },
    {
     "name": "stderr",
     "output_type": "stream",
     "text": [
      "C:\\Users\\semem\\AppData\\Local\\Programs\\Python\\Python312\\Lib\\site-packages\\transformers\\tokenization_utils_base.py:1601: FutureWarning: `clean_up_tokenization_spaces` was not set. It will be set to `True` by default. This behavior will be depracted in transformers v4.45, and will be then set to `False` by default. For more details check this issue: https://github.com/huggingface/transformers/issues/31884\n",
      "  warnings.warn(\n"
     ]
    }
   ],
   "execution_count": 42
  },
  {
   "cell_type": "code",
   "execution_count": null,
   "id": "initial_id",
   "metadata": {
    "collapsed": true
   },
   "outputs": [],
   "source": [
    "from transformers import BertForSequenceClassification\n",
    "from transformers import Trainer, TrainingArguments\n",
    "\n",
    "# Load pre-trained BERT model for sequence classification\n",
    "model = BertForSequenceClassification.from_pretrained('bert-base-uncased', num_labels=len(df['label'].unique()))\n",
    "\n",
    "# Set up training arguments\n",
    "training_args = TrainingArguments(\n",
    "    output_dir='./results',\n",
    "    num_train_epochs=3,\n",
    "    per_device_train_batch_size=16,\n",
    "    per_device_eval_batch_size=64,\n",
    "    warmup_steps=500,\n",
    "    weight_decay=0.01,\n",
    "    evaluation_strategy='epoch',\n",
    "    logging_dir='./logs',\n",
    ")\n",
    "\n",
    "# Initialize the Trainer\n",
    "trainer = Trainer(\n",
    "    model=model,\n",
    "    args=training_args,\n",
    "    train_dataset=train_dataset,\n",
    "    eval_dataset=val_dataset\n",
    ")\n",
    "\n",
    "# Fine-tune the model\n",
    "trainer.train()\n",
    "\n",
    "# Evaluate the model\n",
    "trainer.evaluate()\n"
   ]
  }
 ],
 "metadata": {
  "kernelspec": {
   "display_name": "Python 3",
   "language": "python",
   "name": "python3"
  },
  "language_info": {
   "codemirror_mode": {
    "name": "ipython",
    "version": 2
   },
   "file_extension": ".py",
   "mimetype": "text/x-python",
   "name": "python",
   "nbconvert_exporter": "python",
   "pygments_lexer": "ipython2",
   "version": "2.7.6"
  }
 },
 "nbformat": 4,
 "nbformat_minor": 5
}
